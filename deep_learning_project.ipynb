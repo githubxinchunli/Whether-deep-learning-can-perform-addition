{
  "nbformat": 4,
  "nbformat_minor": 0,
  "metadata": {
    "kernelspec": {
      "display_name": "Python 3",
      "language": "python",
      "name": "python3"
    },
    "language_info": {
      "codemirror_mode": {
        "name": "ipython",
        "version": 3
      },
      "file_extension": ".py",
      "mimetype": "text/x-python",
      "name": "python",
      "nbconvert_exporter": "python",
      "pygments_lexer": "ipython3",
      "version": "3.6.5"
    },
    "colab": {
      "name": "one_hot_encoding.ipynb",
      "provenance": [],
      "machine_shape": "hm"
    }
  },
  "cells": [
    {
      "cell_type": "markdown",
      "metadata": {
        "id": "FoT4ea83y4xN",
        "colab_type": "text"
      },
      "source": [
        "# 1. Preparing Data"
      ]
    },
    {
      "cell_type": "code",
      "metadata": {
        "id": "VfKCl_oUy4xO",
        "colab_type": "code",
        "colab": {}
      },
      "source": [
        "import numpy as np\n",
        "np.random.seed()\n",
        "\n",
        "#generate correct examples\n",
        "def CorrectGenrator(N):\n",
        "    A = np.random.randint(1000, size=N)\n",
        "    B = np.random.randint(1000, size=N)\n",
        "    C = A + B\n",
        "    return A, B, C\n",
        "\n",
        "\n",
        "#generate wrong examles\n",
        "def WrongGenrator(N):\n",
        "    A = np.random.randint(1000, size=N)\n",
        "    B = np.random.randint(1000, size=N)\n",
        "    C = np.random.randint(1000, size=N)\n",
        "    C = C + (C==A+B) #add 1 to those happen to be equal\n",
        "    return A, B, C\n",
        "\n",
        "\n",
        "#preprocess data using one hot encoding, return N*3*4*10, 3 channels for 3 numbers, each number is a 4 by 10 matrix\n",
        "def DataPreProcessing(A, B, C):\n",
        "    N = len(A)\n",
        "    X = np.zeros((N,3,4,10))\n",
        "    for k,D in enumerate([A,B,C]):\n",
        "        for i in range(N):\n",
        "            m = 0\n",
        "            tmp = D[i]\n",
        "            while(10*tmp):\n",
        "                n = tmp%10\n",
        "                X[i,k,m,n] = 1\n",
        "                m += 1\n",
        "                tmp = int(tmp/10)\n",
        "    return X"
      ],
      "execution_count": 0,
      "outputs": []
    },
    {
      "cell_type": "code",
      "metadata": {
        "id": "NpSfjQDUy4xR",
        "colab_type": "code",
        "colab": {
          "base_uri": "https://localhost:8080/",
          "height": 85
        },
        "outputId": "fc956c77-131b-4cf8-89ce-1f637752a046"
      },
      "source": [
        "#gernerate training data\n",
        "pos_train_num = 50000\n",
        "neg_train_num = 50000\n",
        "A, B, C = CorrectGenrator(pos_train_num)\n",
        "Xt = DataPreProcessing(A,B,C)\n",
        "A, B, C = WrongGenrator(neg_train_num)\n",
        "Xf = DataPreProcessing(A,B,C)\n",
        "X = np.concatenate((Xt,Xf), axis=0)\n",
        "Y = np.zeros(pos_train_num+neg_train_num)\n",
        "Y[:pos_train_num] = 1\n",
        "\n",
        "idx = np.random.permutation(pos_train_num+neg_train_num)\n",
        "x_train = X[idx,:,:,:]\n",
        "y_train = Y[idx]\n",
        "print('x_train: ',x_train.shape)\n",
        "print('y_train: ',y_train.shape)\n",
        "\n",
        "\n",
        "#gernerate test data\n",
        "pos_test_num = 5000\n",
        "neg_test_num = 5000\n",
        "At, Bt, Ct = CorrectGenrator(pos_test_num)\n",
        "Xt = DataPreProcessing(At,Bt,Ct)\n",
        "Af, Bf, Cf = WrongGenrator(neg_test_num)\n",
        "Xf = DataPreProcessing(Af,Bf,Cf)\n",
        "x_test = np.concatenate((Xt,Xf), axis=0)\n",
        "y_test = np.zeros(pos_test_num+neg_test_num)\n",
        "y_test[:pos_test_num] = 1\n",
        "print('x_test: ',x_test.shape)\n",
        "print('y_test: ',y_test.shape)"
      ],
      "execution_count": 8,
      "outputs": [
        {
          "output_type": "stream",
          "text": [
            "x_train:  (100000, 3, 4, 10)\n",
            "y_train:  (100000,)\n",
            "x_test:  (10000, 3, 4, 10)\n",
            "y_test:  (10000,)\n"
          ],
          "name": "stdout"
        }
      ]
    },
    {
      "cell_type": "markdown",
      "metadata": {
        "id": "1H6wTFUYy4xV",
        "colab_type": "text"
      },
      "source": [
        "# 2. Simple NN"
      ]
    },
    {
      "cell_type": "code",
      "metadata": {
        "id": "-vfShgo2y4xV",
        "colab_type": "code",
        "colab": {
          "base_uri": "https://localhost:8080/",
          "height": 374
        },
        "outputId": "3a2ce8ae-8782-4779-b209-7ae9307987c2"
      },
      "source": [
        "#build the network\n",
        "import keras\n",
        "from keras.models import Sequential\n",
        "from keras.layers import Dense, Flatten\n",
        "\n",
        "from keras import backend as K\n",
        "K.set_image_data_format('channels_first')\n",
        "\n",
        "\n",
        "model = Sequential()\n",
        "\n",
        "model.add(Flatten(input_shape=(3,4,10)))\n",
        "model.add(Dense(120, activation='relu'))\n",
        "model.add(Dense(60, activation='relu'))\n",
        "model.add(Dense(10, activation='relu'))\n",
        "model.add(Dense(1, activation='sigmoid'))\n",
        "\n",
        "model.compile(loss='binary_crossentropy', optimizer='rmsprop', metrics=['accuracy'])\n",
        "\n",
        "history = model.fit(x_train, y_train, batch_size=32, validation_split=0.2, epochs=10, verbose=1)"
      ],
      "execution_count": 9,
      "outputs": [
        {
          "output_type": "stream",
          "text": [
            "Train on 80000 samples, validate on 20000 samples\n",
            "Epoch 1/10\n",
            "80000/80000 [==============================] - 5s 68us/step - loss: 0.2754 - acc: 0.8603 - val_loss: 0.1489 - val_acc: 0.9414\n",
            "Epoch 2/10\n",
            "80000/80000 [==============================] - 5s 59us/step - loss: 0.1389 - acc: 0.9499 - val_loss: 0.1146 - val_acc: 0.9611\n",
            "Epoch 3/10\n",
            "80000/80000 [==============================] - 5s 59us/step - loss: 0.1210 - acc: 0.9565 - val_loss: 0.1004 - val_acc: 0.9643\n",
            "Epoch 4/10\n",
            "80000/80000 [==============================] - 5s 58us/step - loss: 0.1055 - acc: 0.9615 - val_loss: 0.0911 - val_acc: 0.9681\n",
            "Epoch 5/10\n",
            "80000/80000 [==============================] - 5s 59us/step - loss: 0.0951 - acc: 0.9670 - val_loss: 0.0937 - val_acc: 0.9670\n",
            "Epoch 6/10\n",
            "80000/80000 [==============================] - 5s 59us/step - loss: 0.0893 - acc: 0.9694 - val_loss: 0.0761 - val_acc: 0.9745\n",
            "Epoch 7/10\n",
            "80000/80000 [==============================] - 5s 59us/step - loss: 0.0864 - acc: 0.9713 - val_loss: 0.1084 - val_acc: 0.9620\n",
            "Epoch 8/10\n",
            "80000/80000 [==============================] - 5s 59us/step - loss: 0.0843 - acc: 0.9728 - val_loss: 0.0796 - val_acc: 0.9739\n",
            "Epoch 9/10\n",
            "80000/80000 [==============================] - 5s 59us/step - loss: 0.0814 - acc: 0.9734 - val_loss: 0.0708 - val_acc: 0.9785\n",
            "Epoch 10/10\n",
            "80000/80000 [==============================] - 5s 59us/step - loss: 0.0804 - acc: 0.9740 - val_loss: 0.0723 - val_acc: 0.9769\n"
          ],
          "name": "stdout"
        }
      ]
    },
    {
      "cell_type": "code",
      "metadata": {
        "id": "XQtVpKJXy4xY",
        "colab_type": "code",
        "colab": {
          "base_uri": "https://localhost:8080/",
          "height": 295
        },
        "outputId": "88a5721c-1cab-4ede-9316-74b330fb0562"
      },
      "source": [
        "import matplotlib.pyplot as plt\n",
        "# Plot training & validation accuracy values\n",
        "plt.plot(history.history['acc'])\n",
        "plt.plot(history.history['val_acc'])\n",
        "plt.title('Model accuracy')\n",
        "plt.ylabel('Accuracy')\n",
        "plt.xlabel('Epoch')\n",
        "plt.legend(['Train', 'Validation'], loc='upper left')\n",
        "plt.show()"
      ],
      "execution_count": 10,
      "outputs": [
        {
          "output_type": "display_data",
          "data": {
            "image/png": "[encoded data removed]",
            "text/plain": [
              "<Figure size 432x288 with 1 Axes>"
            ]
          },
          "metadata": {
            "tags": []
          }
        }
      ]
    },
    {
      "cell_type": "code",
      "metadata": {
        "id": "I7BUQetNy4xa",
        "colab_type": "code",
        "colab": {
          "base_uri": "https://localhost:8080/",
          "height": 51
        },
        "outputId": "d23788ef-b95f-4e65-c683-62137e530abc"
      },
      "source": [
        "score = model.evaluate(x_test, y_test, batch_size=32)\n",
        "print(score[1])\n",
        "\n",
        "y_pre = np.squeeze(model.predict(x_test)>0.5)\n",
        "idx = y_pre!=y_test"
      ],
      "execution_count": 11,
      "outputs": [
        {
          "output_type": "stream",
          "text": [
            "10000/10000 [==============================] - 0s 28us/step\n",
            "0.9757\n"
          ],
          "name": "stdout"
        }
      ]
    },
    {
      "cell_type": "code",
      "metadata": {
        "id": "-xvPrTiAy4xc",
        "colab_type": "code",
        "colab": {
          "base_uri": "https://localhost:8080/",
          "height": 68
        },
        "outputId": "d2d00ef8-5802-4f1b-918d-e88306ae6df8"
      },
      "source": [
        "#show mistakes in positive test examples\n",
        "print(At[idx[:5000]])\n",
        "print(Bt[idx[:5000]])\n",
        "print(Ct[idx[:5000]])"
      ],
      "execution_count": 12,
      "outputs": [
        {
          "output_type": "stream",
          "text": [
            "[  8 169 188 240 254]\n",
            "[785 266 646 311 488]\n",
            "[793 435 834 551 742]\n"
          ],
          "name": "stdout"
        }
      ]
    },
    {
      "cell_type": "code",
      "metadata": {
        "id": "pKE0zDY7y4xe",
        "colab_type": "code",
        "colab": {
          "base_uri": "https://localhost:8080/",
          "height": 731
        },
        "outputId": "ff92f419-7ab3-4018-88b0-f160da5878ea"
      },
      "source": [
        "#show mistakes in negtive test examples\n",
        "print(Af[idx[5000:]])\n",
        "print(Bf[idx[5000:]])\n",
        "print(Cf[idx[5000:]])"
      ],
      "execution_count": 13,
      "outputs": [
        {
          "output_type": "stream",
          "text": [
            "[374 580 547 440 805 121 923  24 259 582 360 273 575 780 137 252  33 538\n",
            "  97 353 337 201 874 406 317 123 229  66 516 102 486 165  66 598 323 773\n",
            "  39 161 124 385 273 425 465 307  36 726 382  20 455 395 291 447 663 217\n",
            " 177   2 616 111 173 900 319 385 702 362 637  82  79  79  53 782 326 408\n",
            " 400 762 103 144 246 117 423 550 716 459 209 387 297 518  82 173 249 667\n",
            " 672 213 677 754  78 178 324 139 584 187 334 191  82 128  62 848 588 497\n",
            " 178 195  27 750 648 110  63 293 136 428 179 354  85  91  21  94  81 219\n",
            " 662 421 149 434  10  46 163 911 533 515 386 534 106 326 181 245  29 471\n",
            " 456 293 714 254 419 225 342 179 317 216 416  88 187  48 139 623 284 260\n",
            " 145 135  34 444  59 234  17 453 794 105 392  94 489 503  85  15 381 166\n",
            " 464 561 298  62 212 126 510 191 231 526 119 307 644 214 237 296 500 116\n",
            " 121  37 422 103 518 535 627  22 171 658  43 407 512 737  26 844 345 373\n",
            " 580 192 608 409 613 317 253 263 113 248 567 256  18 294 128 299 214  69\n",
            " 144 247 108 378]\n",
            "[255  52 259 288  29 431 130 443 395 371 312 249 229  83 833 455 553  94\n",
            " 847 357 234 333  82 422 187 112 405 795 275 727 379  14 492 236 225 138\n",
            "  70 552 207 264  33 379 333 283 652  98 576 539 433 142 458 392 137 489\n",
            " 764 696  89 702 823   8  17 196 174 506  20 860 883 760  45 121 591 428\n",
            " 257   4 146 341 571 749 504 145 228 414 287 213 462 432 714 790 318  66\n",
            " 132 657 285  73 473 732 120 730  65 487 649 676 488 347 370 179  41 284\n",
            " 259 625 237 183 290 522 348 302  62 499  97 340 586  17 285 274  65 584\n",
            "   9 535 509 410 248 378 485   1  94 240   2 392 744 497 293 673 658 260\n",
            " 277 309 205 225  84 452 102 589 197 766  98 816 306 743 286  99 495 470\n",
            "  48 669 650 560 482  42 328 396 185 280 178 257 280 138 893 257 125 778\n",
            " 511 261 669   9 348 431 281 560 508 216 617  58 224 472 584 712 385 573\n",
            " 322 516 412 517 243 112 194 361 300 291 869  20  93  48 555  97 336 220\n",
            " 266 734  86 482  39 454 578 390 931 224 144 132 123 197 842  56  16  90\n",
            " 154 165 123 159]\n",
            "[652 674 839 686 826 487 993 506 632 931 656 535 793 827 994 737 630 659\n",
            " 948 715 553 472 911 856 466 256 596 884 799 885 845 196 583 835 604 881\n",
            "  81 714 339 687 340 806 811 635 710 811 955 564 936 557 714 785 756 724\n",
            " 988 654 706 828 973 938 405 554 863 863 642 971 987 823 124 881 886 858\n",
            " 680 723 238 484 791 858 882 718 902 916 530 661 731 960 808 927 500 738\n",
            " 840 819 922 808 607 894 475 903 639 631 956 896 605 496 470 977 652 749\n",
            " 422 781 276 890 941 602 365 633 247 950 326 705 665  72 299 331 151 770\n",
            " 682 916 687 832 196 398 603 885 621 759 359 906 845 777 481 921 664 757\n",
            " 764 596 874 415 509 734 465 717 475 983 499 905 504 756 451 685 803 750\n",
            " 200 813 634 954 583 259 308 797 917 410 612 385 795 610 942 258 521 945\n",
            " 934 799 976  51 537 583 756 752 761 760 771 332 881 642 761 957 886 697\n",
            " 444 481 833 602 755 617 829 413 456 924 907 401 613 833 521 960 647 561\n",
            " 862 893 654 897 665 766 781 583 991 453 732 392 159 461 957 404 242 139\n",
            " 255 396 202 568]\n"
          ],
          "name": "stdout"
        }
      ]
    },
    {
      "cell_type": "markdown",
      "metadata": {
        "id": "7FNcD9X-y4xg",
        "colab_type": "text"
      },
      "source": [
        "# 3. Simple CNN"
      ]
    },
    {
      "cell_type": "code",
      "metadata": {
        "id": "xriNeNTcy4xh",
        "colab_type": "code",
        "colab": {
          "base_uri": "https://localhost:8080/",
          "height": 374
        },
        "outputId": "77e3d51e-0f74-4392-9c14-bd5064c13b07"
      },
      "source": [
        "#build the network\n",
        "import keras\n",
        "from keras.models import Sequential\n",
        "from keras.layers import Dense, Flatten\n",
        "from keras.layers import Conv2D\n",
        "\n",
        "from keras import backend as K\n",
        "K.set_image_data_format('channels_first')\n",
        "\n",
        "\n",
        "model = Sequential()\n",
        "\n",
        "model.add(Conv2D(8, (1, 1), activation='relu', input_shape=(3,4,10)))\n",
        "model.add(Conv2D(8, (3, 3), activation='relu'))\n",
        "\n",
        "model.add(Flatten())\n",
        "model.add(Dense(10, activation='relu'))\n",
        "model.add(Dense(1, activation='sigmoid'))\n",
        "\n",
        "model.compile(loss='binary_crossentropy', optimizer='rmsprop', metrics=['accuracy'])\n",
        "\n",
        "history = model.fit(x_train, y_train, batch_size=32, validation_split=0.2, epochs=10, verbose=1)"
      ],
      "execution_count": 14,
      "outputs": [
        {
          "output_type": "stream",
          "text": [
            "Train on 80000 samples, validate on 20000 samples\n",
            "Epoch 1/10\n",
            "80000/80000 [==============================] - 10s 119us/step - loss: 0.3779 - acc: 0.7918 - val_loss: 0.2778 - val_acc: 0.8659\n",
            "Epoch 2/10\n",
            "80000/80000 [==============================] - 9s 113us/step - loss: 0.2314 - acc: 0.8924 - val_loss: 0.1849 - val_acc: 0.9212\n",
            "Epoch 3/10\n",
            "80000/80000 [==============================] - 9s 108us/step - loss: 0.1605 - acc: 0.9369 - val_loss: 0.1323 - val_acc: 0.9563\n",
            "Epoch 4/10\n",
            "80000/80000 [==============================] - 10s 119us/step - loss: 0.1299 - acc: 0.9514 - val_loss: 0.1239 - val_acc: 0.9515\n",
            "Epoch 5/10\n",
            "80000/80000 [==============================] - 10s 127us/step - loss: 0.1151 - acc: 0.9572 - val_loss: 0.2200 - val_acc: 0.8703\n",
            "Epoch 6/10\n",
            "80000/80000 [==============================] - 9s 115us/step - loss: 0.1054 - acc: 0.9620 - val_loss: 0.0934 - val_acc: 0.9683\n",
            "Epoch 7/10\n",
            "80000/80000 [==============================] - 9s 111us/step - loss: 0.0959 - acc: 0.9668 - val_loss: 0.0751 - val_acc: 0.9762\n",
            "Epoch 8/10\n",
            "80000/80000 [==============================] - 9s 113us/step - loss: 0.0904 - acc: 0.9695 - val_loss: 0.0779 - val_acc: 0.9757\n",
            "Epoch 9/10\n",
            "80000/80000 [==============================] - 9s 112us/step - loss: 0.0864 - acc: 0.9710 - val_loss: 0.0816 - val_acc: 0.9749\n",
            "Epoch 10/10\n",
            "80000/80000 [==============================] - 9s 113us/step - loss: 0.0829 - acc: 0.9724 - val_loss: 0.0756 - val_acc: 0.9746\n"
          ],
          "name": "stdout"
        }
      ]
    },
    {
      "cell_type": "code",
      "metadata": {
        "id": "hkcA7oTcy4xk",
        "colab_type": "code",
        "colab": {
          "base_uri": "https://localhost:8080/",
          "height": 295
        },
        "outputId": "07ae39bd-ad51-4164-b471-9bb2fac71b54"
      },
      "source": [
        "import matplotlib.pyplot as plt\n",
        "# Plot training & validation accuracy values\n",
        "plt.plot(history.history['acc'])\n",
        "plt.plot(history.history['val_acc'])\n",
        "plt.title('Model accuracy')\n",
        "plt.ylabel('Accuracy')\n",
        "plt.xlabel('Epoch')\n",
        "plt.legend(['Train', 'Validation'], loc='upper left')\n",
        "plt.show()"
      ],
      "execution_count": 15,
      "outputs": [
        {
          "output_type": "display_data",
          "data": {
            "image/png": "[encoded data removed]",
            "text/plain": [
              "<Figure size 432x288 with 1 Axes>"
            ]
          },
          "metadata": {
            "tags": []
          }
        }
      ]
    },
    {
      "cell_type": "code",
      "metadata": {
        "id": "kCLJqFDty4xm",
        "colab_type": "code",
        "colab": {
          "base_uri": "https://localhost:8080/",
          "height": 51
        },
        "outputId": "dde17636-882e-43c7-dad6-0ada8f0b0afb"
      },
      "source": [
        "score = model.evaluate(x_test, y_test, batch_size=32)\n",
        "print(score[1])\n",
        "\n",
        "y_pre = np.squeeze(model.predict(x_test)>0.5)\n",
        "idx = y_pre!=y_test"
      ],
      "execution_count": 16,
      "outputs": [
        {
          "output_type": "stream",
          "text": [
            "10000/10000 [==============================] - 0s 43us/step\n",
            "0.9743\n"
          ],
          "name": "stdout"
        }
      ]
    },
    {
      "cell_type": "code",
      "metadata": {
        "id": "Gin5YjATy4xo",
        "colab_type": "code",
        "colab": {
          "base_uri": "https://localhost:8080/",
          "height": 119
        },
        "outputId": "d864813f-b2db-4566-ce04-e74f99b20856"
      },
      "source": [
        "#show mistakes in positive test examples\n",
        "print(At[idx[:5000]])\n",
        "print(Bt[idx[:5000]])\n",
        "print(Ct[idx[:5000]])"
      ],
      "execution_count": 17,
      "outputs": [
        {
          "output_type": "stream",
          "text": [
            "[  3 457 464  40  57  64 435 462  54  67  44  38  16  43   6   5   6  59\n",
            "   5  49]\n",
            "[ 10 244 339   8   4  17 369 325  36  32  23  36  51  30   7  48  50  37\n",
            "  73  37]\n",
            "[ 13 701 803  48  61  81 804 787  90  99  67  74  67  73  13  53  56  96\n",
            "  78  86]\n"
          ],
          "name": "stdout"
        }
      ]
    },
    {
      "cell_type": "code",
      "metadata": {
        "id": "jHYUsMjhy4xq",
        "colab_type": "code",
        "colab": {
          "base_uri": "https://localhost:8080/",
          "height": 731
        },
        "outputId": "a1749197-2ad5-4a34-d6f8-5072d518245c"
      },
      "source": [
        "#show mistakes in negtive test examples\n",
        "print(Af[idx[5000:]])\n",
        "print(Bf[idx[5000:]])\n",
        "print(Cf[idx[5000:]])"
      ],
      "execution_count": 18,
      "outputs": [
        {
          "output_type": "stream",
          "text": [
            "[374 580 440 805  24 259 582 360 100 273 575 137 522  33 459 538  97 353\n",
            " 337 874 406 317  89 123 229  66 516 165 406 374  66 521 598 444 773 491\n",
            "  39 161 124 273 425 202 254  36 726 382  20 455 395 291 447 217 177 616\n",
            "  32 111 173 476 900 385 702 362 637  82  79 475 117  79  53 782 326 408\n",
            " 400 412 103 377 144 246 117 496 423 550 716 459 209 297 518  82 173 667\n",
            " 672 677 754 178 324 139 584 187 334 191  82 128  62 159 588  49 225  75\n",
            " 178 360 195  27 750 648 110 527 492 293 428 354  85 435  91  21  94  81\n",
            " 219 662 421 149  75 434 193  46 163 533 515 386 534 106 326 181 493 245\n",
            " 312 170  29 471  98 293 714 419 149 342 179 317 216 416  88  80 187 139\n",
            " 779 260 145 135 444  59 234 185 669 453 105 392  94 489 503  85  15 381\n",
            " 166 464 561 406 298  62 212 126 510 551 191  97 119 390 307 644 675 214\n",
            " 296 500 116 121 422 103 518 535 627  22 171 658  43 407 512 737 844 345\n",
            " 373 580 192 409 613 317 253 248 567 256  18 198 108 294 128 214  69 436\n",
            " 247 108 378]\n",
            "[255  52 288  29 443 395 371 312 781 249 229 833  90 553 553  94 847 357\n",
            " 234  82 422 187 583 112 405 795 275  14  88 342 492  67 236 350 138 166\n",
            "  70 552 207  33 379 371 275 652  98 576 539 433 142 458 392 489 764  89\n",
            " 854 702 823  25   8 196 174 506  20 860 883 549 394 760  45 121 591 428\n",
            " 257  85 146 533 341 571 749 426 504 145 228 414 287 462 432 714 790  66\n",
            " 132 285  73 732 120 730  65 487 649 676 488 347 370 267  41 199 458 876\n",
            " 259 403 625 237 183 290 522  65  18 302 499 340 586 422  17 285 274  65\n",
            " 584   9 535 509 333 410 508 378 485  94 240   2 392 744 497 293 406 673\n",
            " 571 666 658 260  83 309 205  84 384 102 589 197 766  98 816 571 306 286\n",
            "  31 470  48 669 560 482  42  64 308 396 280 178 257 280 138 893 257 125\n",
            " 778 511 261 250 669   9 348 431 281 377 560 230 617 344  58 224 170 472\n",
            " 712 385 573 322 412 517 243 112 194 361 300 291 869  20  93  48  97 336\n",
            " 220 266 734 482  39 454 578 224 144 132 123 574 405 197 842  16  90 221\n",
            " 165 123 159]\n",
            "[652 674 686 826 506 632 931 656 919 535 793 994 691 630 964 659 948 715\n",
            " 553 911 856 466 632 256 596 884 799 196 554 660 583 668 835 686 881 605\n",
            "  81 714 339 340 806 613 575 710 811 955 564 936 557 714 785 724 988 706\n",
            " 931 828 973 568 938 554 863 863 642 971 987 960 562 823 124 881 886 858\n",
            " 680 439 238 860 484 791 858 864 882 718 902 916 530 731 960 808 927 738\n",
            " 840 922 808 894 475 903 639 631 956 896 605 496 470 401 652 203 638 897\n",
            " 422 699 781 276 890 941 602 666 555 633 950 705 665 818  72 299 331 151\n",
            " 770 682 916 687 455 832 752 398 603 621 759 359 906 845 777 481 961 921\n",
            " 815 790 664 757 129 596 874 509 583 465 717 475 983 499 905 711 504 451\n",
            " 863 750 200 813 954 583 259 201 931 797 410 612 385 795 610 942 258 521\n",
            " 945 934 799 602 976  51 537 583 756 985 752 361 771 674 332 881 810 642\n",
            " 957 886 697 444 833 602 755 617 829 413 456 924 907 401 613 833 960 647\n",
            " 561 862 893 897 665 766 781 453 732 392 159 828 449 461 957 242 139 591\n",
            " 396 202 568]\n"
          ],
          "name": "stdout"
        }
      ]
    },
    {
      "cell_type": "markdown",
      "metadata": {
        "id": "XTnD7jXmy4xs",
        "colab_type": "text"
      },
      "source": [
        " At first, I mistakenly set image_data_format to be 'channels_last'. Interestingly, it works much better, especially in positive test examples. I guess it implys some other kind of logic. Turning original numbers into what we thought as 'one-hot-encoding' is just merely one kind of encoding. Actually viewing the data as channel last is another kind of one to one encoding. The following results is just from mistakenly 'channels_last'. All the others are the same as above."
      ]
    },
    {
      "cell_type": "code",
      "metadata": {
        "id": "nF0rI95Dy4xt",
        "colab_type": "code",
        "colab": {
          "base_uri": "https://localhost:8080/",
          "height": 374
        },
        "outputId": "44c7631f-352d-4cbd-bbc6-a4fe948b421f"
      },
      "source": [
        "#build the network\n",
        "import keras\n",
        "from keras.models import Sequential\n",
        "from keras.layers import Dense, Dropout, Flatten\n",
        "from keras.layers import Conv2D, MaxPooling2D\n",
        "\n",
        "from keras import backend as K\n",
        "K.set_image_data_format('channels_last')\n",
        "\n",
        "\n",
        "model = Sequential()\n",
        "\n",
        "model.add(Conv2D(8, (1, 1), activation='relu', input_shape=(3,4,10)))\n",
        "model.add(Conv2D(8, (3, 3), activation='relu'))\n",
        "\n",
        "model.add(Flatten())\n",
        "model.add(Dense(10, activation='relu'))\n",
        "model.add(Dense(1, activation='sigmoid'))\n",
        "\n",
        "model.compile(loss='binary_crossentropy', optimizer='rmsprop', metrics=['accuracy'])\n",
        "\n",
        "history = model.fit(x_train, y_train, batch_size=32, validation_split=0.2, epochs=10, verbose=1)"
      ],
      "execution_count": 19,
      "outputs": [
        {
          "output_type": "stream",
          "text": [
            "Train on 80000 samples, validate on 20000 samples\n",
            "Epoch 1/10\n",
            "80000/80000 [==============================] - 6s 70us/step - loss: 0.3691 - acc: 0.8057 - val_loss: 0.2111 - val_acc: 0.9134\n",
            "Epoch 2/10\n",
            "80000/80000 [==============================] - 5s 63us/step - loss: 0.1374 - acc: 0.9504 - val_loss: 0.0918 - val_acc: 0.9720\n",
            "Epoch 3/10\n",
            "80000/80000 [==============================] - 5s 59us/step - loss: 0.0871 - acc: 0.9713 - val_loss: 0.0658 - val_acc: 0.9770\n",
            "Epoch 4/10\n",
            "80000/80000 [==============================] - 5s 59us/step - loss: 0.0745 - acc: 0.9760 - val_loss: 0.0588 - val_acc: 0.9795\n",
            "Epoch 5/10\n",
            "80000/80000 [==============================] - 5s 57us/step - loss: 0.0682 - acc: 0.9785 - val_loss: 0.0590 - val_acc: 0.9810\n",
            "Epoch 6/10\n",
            "80000/80000 [==============================] - 5s 56us/step - loss: 0.0652 - acc: 0.9796 - val_loss: 0.0467 - val_acc: 0.9856\n",
            "Epoch 7/10\n",
            "80000/80000 [==============================] - 5s 56us/step - loss: 0.0629 - acc: 0.9801 - val_loss: 0.0482 - val_acc: 0.9839\n",
            "Epoch 8/10\n",
            "80000/80000 [==============================] - 4s 55us/step - loss: 0.0613 - acc: 0.9806 - val_loss: 0.0452 - val_acc: 0.9862\n",
            "Epoch 9/10\n",
            "80000/80000 [==============================] - 4s 56us/step - loss: 0.0600 - acc: 0.9813 - val_loss: 0.0431 - val_acc: 0.9875\n",
            "Epoch 10/10\n",
            "80000/80000 [==============================] - 4s 55us/step - loss: 0.0569 - acc: 0.9822 - val_loss: 0.0481 - val_acc: 0.9847\n"
          ],
          "name": "stdout"
        }
      ]
    },
    {
      "cell_type": "code",
      "metadata": {
        "id": "jxpNh_y8y4xu",
        "colab_type": "code",
        "colab": {
          "base_uri": "https://localhost:8080/",
          "height": 295
        },
        "outputId": "63940cf3-f1ce-4a89-cfe4-4a03ce889374"
      },
      "source": [
        "import matplotlib.pyplot as plt\n",
        "# Plot training & validation accuracy values\n",
        "plt.plot(history.history['acc'])\n",
        "plt.plot(history.history['val_acc'])\n",
        "plt.title('Model accuracy')\n",
        "plt.ylabel('Accuracy')\n",
        "plt.xlabel('Epoch')\n",
        "plt.legend(['Train', 'Validation'], loc='upper left')\n",
        "plt.show()"
      ],
      "execution_count": 20,
      "outputs": [
        {
          "output_type": "display_data",
          "data": {
            "image/png": "[encoded data removed]",
            "text/plain": [
              "<Figure size 432x288 with 1 Axes>"
            ]
          },
          "metadata": {
            "tags": []
          }
        }
      ]
    },
    {
      "cell_type": "code",
      "metadata": {
        "id": "sQVK5vJ4y4xx",
        "colab_type": "code",
        "colab": {
          "base_uri": "https://localhost:8080/",
          "height": 51
        },
        "outputId": "4ae98501-d357-4b51-b508-15a2c787c6a2"
      },
      "source": [
        "score = model.evaluate(x_test, y_test, batch_size=32)\n",
        "print(score[1])\n",
        "\n",
        "y_pre = np.squeeze(model.predict(x_test)>0.5)\n",
        "idx = y_pre!=y_test"
      ],
      "execution_count": 21,
      "outputs": [
        {
          "output_type": "stream",
          "text": [
            "10000/10000 [==============================] - 0s 20us/step\n",
            "0.9838\n"
          ],
          "name": "stdout"
        }
      ]
    },
    {
      "cell_type": "code",
      "metadata": {
        "id": "o-Pd78wny4xy",
        "colab_type": "code",
        "colab": {
          "base_uri": "https://localhost:8080/",
          "height": 68
        },
        "outputId": "3cc0ad47-520d-4885-a4b3-3fbd659fb90f"
      },
      "source": [
        "#show mistakes in positive test examples\n",
        "print(At[idx[:5000]])\n",
        "print(Bt[idx[:5000]])\n",
        "print(Ct[idx[:5000]])"
      ],
      "execution_count": 22,
      "outputs": [
        {
          "output_type": "stream",
          "text": [
            "[]\n",
            "[]\n",
            "[]\n"
          ],
          "name": "stdout"
        }
      ]
    },
    {
      "cell_type": "code",
      "metadata": {
        "id": "2KBqFfKvy4x1",
        "colab_type": "code",
        "colab": {
          "base_uri": "https://localhost:8080/",
          "height": 476
        },
        "outputId": "bcf14e7a-b01e-4f2f-e48d-0d81073f619a"
      },
      "source": [
        "#show mistakes in negtive test examples\n",
        "print(Af[idx[5000:]])\n",
        "print(Bf[idx[5000:]])\n",
        "print(Cf[idx[5000:]])"
      ],
      "execution_count": 23,
      "outputs": [
        {
          "output_type": "stream",
          "text": [
            "[374 440 805 923 259 582 360 100 273 575 137 538  97 353 337 123 229  66\n",
            " 516 486 165  66 598 161 124 425 465  36 726 382  20 118 395 291 447 616\n",
            " 218 113 111 173 385 702 362 637  82  79  79  53 782 400 103 144 246 117\n",
            " 423 297 518  82 173 667 672 677 754 178 139 584 187 334 191 128  62 159\n",
            " 848 588 497 178 195  27 122 648 110 354  85  21  94  81 219 662 421 434\n",
            "  10  46 163 911 533 515 534 106 181 245  29 293 714 419 342 179 216 416\n",
            "  88 187 139 284 260 145 135 234 105 503  15 381 166 464 561 298 212 126\n",
            " 510 191 526 644 675 214 500 116 121 422 103 518 535 586 627  22 171 658\n",
            "  43 512 844 345 580 409 613 317 113 248 256  18 294 128 214  69 247 378]\n",
            "[255 288  29 130 395 371 312 781 249 229 833  94 847 357 234 112 405 795\n",
            " 275 379  14 492 236 552 207 379 333 652  98 576 539 818 142 458 392  89\n",
            " 328 824 702 823 196 174 506  20 860 883 760  45 121 257 146 341 571 749\n",
            " 504 462 432 714 790  66 132 285  73 732 730  65 487 649 676 347 370 267\n",
            " 179  41 284 259 625 237 179 290 522 340 586 285 274  65 584   9 535 410\n",
            " 248 378 485   1  94 240 392 744 293 673 658 309 205  84 102 589 766  98\n",
            " 816 306 286 495 470  48 669  42 280 138 257 125 778 511 261 669 348 431\n",
            " 281 560 216 224 170 472 385 573 322 412 517 243 112 185 194 361 300 291\n",
            " 869  93  97 336 266 482  39 454 931 224 132 123 197 842  16  90 165 159]\n",
            "[652 686 826 993 632 931 656 919 535 793 994 659 948 715 553 256 596 884\n",
            " 799 845 196 583 835 714 339 806 811 710 811 955 564 872 557 714 785 706\n",
            " 587 888 828 973 554 863 863 642 971 987 823 124 881 680 238 484 791 858\n",
            " 882 731 960 808 927 738 840 922 808 894 903 639 631 956 896 496 470 401\n",
            " 977 652 749 422 781 276 265 941 602 705 665 299 331 151 770 682 916 832\n",
            " 196 398 603 885 621 759 906 845 481 921 664 596 874 509 465 717 983 499\n",
            " 905 504 451 803 750 200 813 259 410 610 258 521 945 934 799 976 537 583\n",
            " 756 752 760 881 810 642 886 697 444 833 602 755 617 728 829 413 456 924\n",
            " 907 613 960 647 862 897 665 766 991 453 392 159 461 957 242 139 396 568]\n"
          ],
          "name": "stdout"
        }
      ]
    },
    {
      "cell_type": "markdown",
      "metadata": {
        "id": "iaYyB-gmy4x3",
        "colab_type": "text"
      },
      "source": [
        "# 4. CNN with Repeated encoding\n",
        "Since the encoding matrix is too small (3,4,10), it is diffcult to perform covolution operator, so I just dupicate the ones and zeros to get a (3,40,40) matrix."
      ]
    },
    {
      "cell_type": "code",
      "metadata": {
        "id": "zRyWuLeyy4x4",
        "colab_type": "code",
        "colab": {
          "base_uri": "https://localhost:8080/",
          "height": 51
        },
        "outputId": "6d996476-4400-4f5f-9938-e049950dd818"
      },
      "source": [
        "#repeat the data to get a larger matrix\n",
        "X_train = np.repeat(x_train, 8, axis=3)\n",
        "X_train = np.repeat(X_train, 20, axis=2)\n",
        "print('X_train: ',X_train.shape)\n",
        "X_test = np.repeat(x_test, 8, axis=3)\n",
        "X_test = np.repeat(X_test, 20, axis=2)\n",
        "print('X_test: ',X_test.shape)"
      ],
      "execution_count": 24,
      "outputs": [
        {
          "output_type": "stream",
          "text": [
            "X_train:  (100000, 3, 80, 80)\n",
            "X_test:  (10000, 3, 80, 80)\n"
          ],
          "name": "stdout"
        }
      ]
    },
    {
      "cell_type": "code",
      "metadata": {
        "id": "_nCoPqJdy4x7",
        "colab_type": "code",
        "colab": {
          "base_uri": "https://localhost:8080/",
          "height": 374
        },
        "outputId": "5c96e021-fdf6-4ef4-a6f5-1a56951bd3ba"
      },
      "source": [
        "#build the network\n",
        "import keras\n",
        "from keras.models import Sequential\n",
        "from keras.layers import Dense, Dropout, Flatten\n",
        "from keras.layers import Conv2D, MaxPooling2D\n",
        "\n",
        "from keras import backend as K\n",
        "K.set_image_data_format('channels_first')\n",
        "\n",
        "\n",
        "model = Sequential()\n",
        "\n",
        "model.add(Conv2D(8, (3, 3), activation='relu', input_shape=(3,80,80)))\n",
        "model.add(Conv2D(8, (3, 3), activation='relu'))\n",
        "model.add(MaxPooling2D(pool_size=(2, 2)))\n",
        "model.add(Dropout(0.25))\n",
        "\n",
        "model.add(Conv2D(16, (3, 3), activation='relu'))\n",
        "model.add(Conv2D(16, (3, 3), activation='relu'))\n",
        "model.add(MaxPooling2D(pool_size=(2, 2)))\n",
        "model.add(Dropout(0.25))\n",
        "\n",
        "model.add(Flatten())\n",
        "model.add(Dense(256, activation='relu'))\n",
        "model.add(Dropout(0.5))\n",
        "model.add(Dense(10, activation='relu'))\n",
        "model.add(Dense(1, activation='sigmoid'))\n",
        "model.compile(loss='binary_crossentropy', optimizer='rmsprop', metrics=['accuracy'])\n",
        "\n",
        "history = model.fit(X_train, y_train, batch_size=32, validation_split=0.2, epochs=10, verbose=1)"
      ],
      "execution_count": 25,
      "outputs": [
        {
          "output_type": "stream",
          "text": [
            "Train on 80000 samples, validate on 20000 samples\n",
            "Epoch 1/10\n",
            "80000/80000 [==============================] - 509s 6ms/step - loss: 0.2239 - acc: 0.8925 - val_loss: 0.1203 - val_acc: 0.9694\n",
            "Epoch 2/10\n",
            "80000/80000 [==============================] - 481s 6ms/step - loss: 0.1219 - acc: 0.9525 - val_loss: 0.0662 - val_acc: 0.9768\n",
            "Epoch 3/10\n",
            "80000/80000 [==============================] - 477s 6ms/step - loss: 0.0992 - acc: 0.9636 - val_loss: 0.0604 - val_acc: 0.9860\n",
            "Epoch 4/10\n",
            "80000/80000 [==============================] - 475s 6ms/step - loss: 0.0888 - acc: 0.9690 - val_loss: 0.0602 - val_acc: 0.9789\n",
            "Epoch 5/10\n",
            "80000/80000 [==============================] - 511s 6ms/step - loss: 0.0838 - acc: 0.9715 - val_loss: 0.0421 - val_acc: 0.9856\n",
            "Epoch 6/10\n",
            "80000/80000 [==============================] - 522s 7ms/step - loss: 0.0778 - acc: 0.9742 - val_loss: 0.0466 - val_acc: 0.9838\n",
            "Epoch 7/10\n",
            "80000/80000 [==============================] - 483s 6ms/step - loss: 0.0740 - acc: 0.9758 - val_loss: 0.0448 - val_acc: 0.9837\n",
            "Epoch 8/10\n",
            "80000/80000 [==============================] - 478s 6ms/step - loss: 0.0715 - acc: 0.9767 - val_loss: 0.0416 - val_acc: 0.9853\n",
            "Epoch 9/10\n",
            "80000/80000 [==============================] - 480s 6ms/step - loss: 0.0690 - acc: 0.9787 - val_loss: 0.0358 - val_acc: 0.9879\n",
            "Epoch 10/10\n",
            "80000/80000 [==============================] - 484s 6ms/step - loss: 0.0670 - acc: 0.9795 - val_loss: 0.0395 - val_acc: 0.9867\n"
          ],
          "name": "stdout"
        }
      ]
    }
  ]
}